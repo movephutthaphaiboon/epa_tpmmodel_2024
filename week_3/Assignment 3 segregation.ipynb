{
 "cells": [
  {
   "cell_type": "markdown",
   "metadata": {},
   "source": [
    "# Schelling Segregation\n",
    "\n",
    "## Conceptual description\n",
    "The basic idea of Schelling's seggregation model is quite straight forward. Imagine we have agents organized on a grid. Agents are either red or blue. Agents prefer to be in an environment with agents of the same color, but they are quite tolerant. If the fraction of neighbors of a different color is higher than this tolerance threshold, the agent moves to another free grid cell. At what level of tolerance does segregation occur? \n",
    "\n",
    "Given this basic description, the model is composed of a grid, with one agent per grid cell. This grid is not completely filled because we need to have free space to where an agent can move. Each agent has a tolerance level, and checks when asked if the fraction of neighbors that is of the different type is higher than this tolerance level. \n",
    "\n",
    "## Implementing a first version of the model\n",
    "\n",
    "### Assignment\n",
    "\n",
    "1. What classes do you need for this model? And what are the key attributes for each of these classes?\n",
    "\n"
   ]
  },
  {
   "cell_type": "markdown",
   "metadata": {},
   "source": [
    "**answer:**\n",
    "\n",
    "..."
   ]
  },
  {
   "cell_type": "markdown",
   "metadata": {},
   "source": [
    "## Agent activation\n",
    "A key issue with the Schelling model, and a key way in which this model is different from the various versions of the Axelrod model is that a step by a given agent can change the local environment. Imagine that a given agent checks its neighborhood, decided that the number of neighbors of a different color is higher than its threshold, and thus decides to move to an empty spot. This move changes the neighborhood the agent is leaving. It also changes the neighborhood the agent is moving to. Depending on the order in which agents are activated (i.e. the `step` method is called) different dynamic patterns can occur.\n",
    "\n",
    "There are various archetypical agent activation patterns. In the axelrod model, we simply activated all agents in the same order because activation order did not matter in any of the versions of the model. However, in for example the Schelling model, we can't do this because activation order will matter. A standard solution for this is to use **random activation**. That is, we shuffle the agents every model step and activate them in this shuffeled order. In Mesa, this is readily available via `model.agents.shuffle_do` which is a convenient short-hand for `model.agents.shuffle().do()`. An other common option is to seperate the intentions of the agents from their implementation. This is sometimes also called **staged activation**. The idea is that first all agents based on their local information decide what action they are going to take without updating any of their public attributes. Next, all agents implement their action and thus update their public attributes. In Mesa, this is done by having two methods on the agent (e.g., `determine_action`, `implement_action`). Next, we can easily implement staged activation by doing `model.agents.do(\"determine_action\").do(\"implement_action\")`. Note that I am assuming here that there is no path dependence in either `determine_action` or `implement_action` because if there was, we would have to use `shuffle_do`. Staged activation can be used for simulating true parallel actions, but it can also be used for more complex interaction patterns were agents have multiple methods that contain part of their overal activation. A last commonly encountered pattern is where we have multiple different classes of agents, and we want to activate all agents of a given class. This is sometimes also called **random activation by type**. Again this is easy to do in mesa:\n",
    "\n",
    "```python\n",
    "agent_types = self.random.shuffle(Agent.__subclasses__)\n",
    "for agent_type in agent_types:\n",
    "    self.agent_by_type[agent_type].shuffle_do('step')\n",
    "\n",
    "```\n",
    "\n",
    "Here, we have 2 levels of randomness. First, we shuffle the order of the agent types (using the `Agent.__subclasses__` trick we saw with Axelrod, but you could also explicate the types here: `self.random.shuffle([Wolf, Sheep, Grass])`). Next for each class of agents, we get the associated `AgentSet` and use `shuffle_do` for random activation. \n",
    "\n"
   ]
  },
  {
   "cell_type": "markdown",
   "metadata": {},
   "source": [
    "## Assignment 1\n",
    "\n",
    "Below, I have given the outline of the model, we are going to implement this now. First, implement the ``__init__`` of the model. It is indicated below with the `...`. A hint regarding attributes can be found in the docstring. The code is very similar to the initialization used for the spatial version of the Axelrod model. After the code block, there is some test code to help you check if your code is working."
   ]
  },
  {
   "cell_type": "code",
   "execution_count": null,
   "metadata": {
    "ExecuteTime": {
     "end_time": "2020-10-23T07:10:08.062564Z",
     "start_time": "2020-10-23T07:10:04.980297Z"
    },
    "tags": []
   },
   "outputs": [],
   "source": [
    "import numpy as np\n",
    "import pandas as pd\n",
    "import matplotlib.pyplot as plt\n",
    "import seaborn as sns\n",
    "\n",
    "from mesa import Model, Agent\n",
    "from mesa.space import SingleGrid\n",
    "from mesa.datacollection import DataCollector\n",
    "from mesa.experimental.cell_space import CellAgent, OrthogonalMooreGrid\n",
    "\n",
    "from enum import Enum\n",
    "\n",
    "class Color(Enum):\n",
    "    RED = 1 # minority color\n",
    "    BLUE = 2 # majority color\n",
    "\n",
    "\n",
    "class Schelling(Model):\n",
    "    \"\"\"\n",
    "    Model class for the Schelling segregation model.\n",
    "    \n",
    "    Parameters\n",
    "    ----------\n",
    "    height : int\n",
    "             height of grid\n",
    "    width : int\n",
    "            height of width\n",
    "    density : float\n",
    "            fraction of grid cells occupied\n",
    "    minority_fraction : float\n",
    "            fraction of agent of minority color\n",
    "    tolerance_threshold : int\n",
    "    \n",
    "    Attributes\n",
    "    ----------\n",
    "    height : int\n",
    "    width : int\n",
    "    density : float\n",
    "    minority_fraction : float\n",
    "    schedule : RandomActivation instance\n",
    "    grid : SingleGrid instance\n",
    "    \n",
    "    \"\"\"\n",
    "\n",
    "    def __init__(self, height=20, width=20, density=0.8, minority_fraction=0.2,\n",
    "                 tolerance_threshold=4, seed=None):\n",
    "        super().__init__(seed=seed)\n",
    "        ...\n",
    "\n",
    "    def step(self):\n",
    "        \"\"\"\n",
    "        Run one step of the model.\n",
    "        \"\"\"\n",
    "        self.agents.shuffle_do(\"step\")\n",
    "\n",
    "\n",
    "class SchellingAgent(CellAgent):\n",
    "    \"\"\"\n",
    "    Schelling segregation agent\n",
    "    \n",
    "    Parameters\n",
    "    ----------\n",
    "    pos : tuple of 2 ints\n",
    "          the x,y coordinates in the grid\n",
    "    model : Model instance\n",
    "    color : {Color.RED, Color.BLUE}\n",
    "    tolerance_threshold : int\n",
    "    \n",
    "    \"\"\"\n",
    "\n",
    "    def __init__(self, model, color, tolerance_threshold):\n",
    "        super().__init__(model) #pos, \n",
    "        self.color = color\n",
    "        self.tolerance_threshold = tolerance_threshold\n",
    "\n",
    "    def step(self):\n",
    "        raise NotImplementedError\n"
   ]
  },
  {
   "cell_type": "markdown",
   "metadata": {},
   "source": [
    "\n",
    "To test the implementation, we can visualize the grid. To do this, we are creating a numpy array with zeros of the same width and height as the model grid. Next, we iterate over the grid and fill in this empty array. We use a value of 3 for an empty cell, and the color number from the `Color` enum class. \n",
    "\n",
    "We can easily visualize the filled in numpy array using matplotlib (e.g. matshow) or seaborn's heatmap. To make the figure a bit nicer, I use a few tricks. First, I am getting a color map from seaborn. This color map is generated by the [colorbrewer](https://colorbrewer2.org/) website. As you can see on this website, the `Set1` colormap has red as 1, blue as 2, and 3 as green. This matches perfectly with the numbers used in filling in the numpy array (and why we used 3 for the empty cells). Second, I like to have a nice equally spaced figure, which you can do by setting the aspect of the axes to equal. \n",
    "\n"
   ]
  },
  {
   "cell_type": "code",
   "execution_count": null,
   "metadata": {
    "tags": []
   },
   "outputs": [],
   "source": [
    "import numpy as np\n",
    "import matplotlib.pyplot as plt\n",
    "import seaborn as sns\n",
    "\n",
    "model = Schelling()\n",
    "\n",
    "\n",
    "def plot_model(model, ax, colors):\n",
    "    grid = np.zeros((model.height, model.width))\n",
    "\n",
    "    for cell in model.grid.all_cells:\n",
    "        i, j = cell.coordinate\n",
    "        value = 3\n",
    "        if not cell.is_empty:\n",
    "            value = cell.agents[0].color.value\n",
    "        grid[i, j] = value\n",
    "    sns.heatmap(grid, ax=ax, cmap=colors)\n",
    "\n",
    "fig, ax = plt.subplots(figsize=(10, 10))\n",
    "colors = sns.color_palette('Set1', 3)\n",
    "ax.set_aspect('equal')\n",
    "\n",
    "plot_model(model, ax, colors)\n",
    "\n",
    "plt.show()"
   ]
  },
  {
   "cell_type": "markdown",
   "metadata": {},
   "source": [
    "## Assignment 2\n",
    "The next step is to implement the logic in the step method of the agent. This is straight forward, we iterate over our neighbors. If our neighbor is of a different color, we increment a counter. After having checked our entire neighborhood, the agent compares this counter with its tolerance threshold. If the number of neighbors of a different color is higher than the threshold, the agent will move. For now, we will use the `select_random_empty_cell` method on the grid for this. \n",
    "\n",
    "\n",
    "Go ahead and implement the model.\n",
    "\n",
    "Test code is provided below."
   ]
  },
  {
   "cell_type": "code",
   "execution_count": null,
   "metadata": {
    "ExecuteTime": {
     "end_time": "2020-10-23T07:39:45.072265Z",
     "start_time": "2020-10-23T07:39:45.063426Z"
    }
   },
   "outputs": [],
   "source": [
    "class SchellingAgent(CellAgent):\n",
    "    \"\"\"\n",
    "    Schelling segregation agent\n",
    "    \n",
    "    Parameters\n",
    "    ----------\n",
    "    pos : tuple of 2 ints\n",
    "          the x,y coordinates in the grid\n",
    "    model : Model instance\n",
    "    color : {Color.RED, Color.BLUE}\n",
    "    tolerance_threshold : int\n",
    "    \n",
    "    \"\"\"\n",
    "\n",
    "    def __init__(self, model, color, tolerance_threshold):\n",
    "        super().__init__(model) #pos, \n",
    "        self.color = color\n",
    "        self.tolerance_threshold = tolerance_threshold\n",
    "\n",
    "    def step(self):\n",
    "        ..."
   ]
  },
  {
   "cell_type": "code",
   "execution_count": null,
   "metadata": {
    "tags": []
   },
   "outputs": [],
   "source": [
    "from mesa.visualization import Slider\n",
    "\n",
    "def agent_portrayal(agent):\n",
    "    if agent.color == Color.RED:\n",
    "        color = 'tab:red'\n",
    "    elif agent.color == Color.BLUE:\n",
    "        color = 'tab:blue'\n",
    "    else:\n",
    "        color = 'tab:green'\n",
    "    \n",
    "    \n",
    "    return {\n",
    "        \"color\": color,\n",
    "        \"size\": 50,\n",
    "    }\n",
    "\n",
    "\n",
    "model_params = {\n",
    "    \"density\": Slider(\"density\", 0.8, 0.01, 0.99, 0.01),\n",
    "    \"minority_fraction\": Slider(\"minority fraction\", 0.2, 0.01, 0.49, 0.01),\n",
    "    \"tolerance_threshold\": Slider(\"tolerance treshold\", 4, 1, 7, 1), \n",
    "    \"width\": 20,\n",
    "    \"height\": 20,\n",
    "}\n"
   ]
  },
  {
   "cell_type": "code",
   "execution_count": null,
   "metadata": {
    "ExecuteTime": {
     "end_time": "2020-10-23T07:39:51.648348Z",
     "start_time": "2020-10-23T07:39:45.604454Z"
    },
    "tags": []
   },
   "outputs": [],
   "source": [
    "from mesa.visualization import SolaraViz, make_space_matplotlib\n",
    "\n",
    "page = SolaraViz(\n",
    "    Schelling(),\n",
    "    components=[make_space_matplotlib(agent_portrayal=agent_portrayal)],\n",
    "    model_params=model_params\n",
    ")\n",
    "# This is required to render the visualization in the Jupyter notebook\n",
    "page"
   ]
  },
  {
   "cell_type": "markdown",
   "metadata": {},
   "source": [
    "We now have a basis version of Schelling seggregation working. We can play around with this model and already learn quite a bit. However, we can also expand the model a bit more."
   ]
  },
  {
   "cell_type": "markdown",
   "metadata": {},
   "source": [
    "## Assignment 3\n",
    "We now have a working model. But we have so far relied only on visual inspection of the model. If we want to explore different tolerance levels, we need some useful statistics from the model as well. Making sense only of the grid is rather hard if we start running this model a few hundred times for different random seeds, different tolerance levels, and different neighborhood rules. A statistic that is easy to check is keeping track of how many agents are happy with their position. That is, they did not want to move to a new location. \n",
    "\n",
    "Implementing this requires a few changes:\n",
    "\n",
    "* Agents need a happy attribute. This is set to True if the agent did not move. It is set to False otherwise.\n",
    "* The model needs a data collector. This collector is called at each step of the model after all agents have moved and keeps track of the total number of happy agents.\n",
    "\n",
    "Go ahead and update both the agent and the model."
   ]
  },
  {
   "cell_type": "code",
   "execution_count": null,
   "metadata": {
    "ExecuteTime": {
     "end_time": "2020-10-23T07:57:15.253089Z",
     "start_time": "2020-10-23T07:57:15.167859Z"
    },
    "tags": []
   },
   "outputs": [],
   "source": [
    "def count_happy(model):\n",
    "    ...\n",
    "    \n",
    "\n",
    "class Schelling(Model):\n",
    "    \"\"\"\n",
    "    Model class for the Schelling segregation model.\n",
    "    \n",
    "    Parameters\n",
    "    ----------\n",
    "    height : int\n",
    "             height of grid\n",
    "    width : int\n",
    "            height of width\n",
    "    density : float\n",
    "            fraction of grid cells occupied\n",
    "    minority_fraction : float\n",
    "            fraction of agent of minority color\n",
    "    tolerance_threshold : int\n",
    "    \n",
    "    Attributes\n",
    "    ----------\n",
    "    height : int\n",
    "    width : int\n",
    "    density : float\n",
    "    minority_fraction : float\n",
    "    schedule : RandomActivation instance\n",
    "    grid : SingleGrid instance\n",
    "    \n",
    "    \"\"\"\n",
    "\n",
    "    def __init__(self, height=20, width=20, density=0.8, minority_fraction=0.2,\n",
    "                 tolerance_threshold=4, seed=None):\n",
    "        super().__init__(seed=seed)\n",
    "        \n",
    "        \n",
    "        self.height = height\n",
    "        self.width = width\n",
    "        self.density = density\n",
    "        self.minority_fraction = minority_fraction\n",
    "\n",
    "        # self.schedule = RandomActivation(self)\n",
    "        self.grid = OrthogonalMooreGrid((width, height), torus=True, capacity=1, random=self.random)\n",
    "        self.datacollector = DataCollector(model_reporters={'happy':count_happy})\n",
    "\n",
    "        # Set up agents\n",
    "        # We iterate over all cells in the grid\n",
    "        for cell in self.grid.all_cells:\n",
    "            if self.random.random() < self.density:\n",
    "                agent_color = Color.RED if self.random.random() < self.minority_fraction else Color.BLUE\n",
    "                agent = SchellingAgent(self, agent_color, tolerance_threshold)\n",
    "                agent.cell = cell\n",
    "        self.datacollector.collect(self)\n",
    "\n",
    "    def step(self):\n",
    "        \"\"\"\n",
    "        Run one step of the model.\n",
    "        \"\"\"\n",
    "        self.agents.shuffle_do(\"step\")\n",
    "        self.datacollector.collect(self)\n",
    "\n",
    "\n",
    "class SchellingAgent(CellAgent):\n",
    "    \"\"\"\n",
    "    Schelling segregation agent\n",
    "    \n",
    "    Parameters\n",
    "    ----------\n",
    "    pos : tuple of 2 ints\n",
    "          the x,y coordinates in the grid\n",
    "    model : Model instance\n",
    "    color : {Color.RED, Color.BLUE}\n",
    "    tolerance_threshold : int\n",
    "    \n",
    "    \"\"\"\n",
    "\n",
    "    def __init__(self, model, color, tolerance_threshold):\n",
    "        super().__init__(model) #pos, \n",
    "        self.color = color\n",
    "        self.tolerance_threshold = tolerance_threshold\n",
    "        self.happy = False\n",
    "\n",
    "    def step(self):\n",
    "        ...\n"
   ]
  },
  {
   "cell_type": "code",
   "execution_count": null,
   "metadata": {
    "ExecuteTime": {
     "end_time": "2020-10-23T07:57:17.812294Z",
     "start_time": "2020-10-23T07:57:17.412005Z"
    },
    "tags": []
   },
   "outputs": [],
   "source": [
    "from mesa.visualization import make_plot_measure\n",
    "\n",
    "page = SolaraViz(\n",
    "    Schelling(),\n",
    "    components=[make_space_matplotlib(agent_portrayal=agent_portrayal), make_plot_measure(\"happy\")],\n",
    "    model_params=model_params\n",
    ")\n",
    "# This is required to render the visualization in the Jupyter notebook\n",
    "page"
   ]
  },
  {
   "cell_type": "markdown",
   "metadata": {},
   "source": [
    "## Assignment 4\n",
    "We used the ``select_random_empty_cell`` method to fiind an empty cell to move the agent to. However, this method simply returns a random empty cell. We can make this a bit smarter by checking each free cell to see if moving there makes sense. That is, would the new neighborhood meet our preferences with respect to the different types of neighbors?\n",
    "\n",
    "Below I have given the basic structure of this refined agent class. You have to fill in the `...` parts. Some more useful methods and attributes you might need are\n",
    "\n",
    "* *grid.all_cells*; contains the collection of all grid cells\n",
    "* *grid.empties* collection of all empty cells\n",
    "* *cell.is_empty* a boolean indicating if a cell is empty or not\n",
    "* moving can be done by assigning a new value to `agent.cell`\n",
    "\n",
    "Note that I have moved the checking of the threshold to its own seperate method which takes as input a position. In this way we can use the exact same code for checking whether an agent wants to move (we pass `self.cell`) or whether an empty cell meets the threshold (we pass an entry from `self.model.grid.empties`)"
   ]
  },
  {
   "cell_type": "code",
   "execution_count": null,
   "metadata": {
    "ExecuteTime": {
     "end_time": "2020-10-23T07:57:20.256993Z",
     "start_time": "2020-10-23T07:57:20.244045Z"
    },
    "tags": []
   },
   "outputs": [],
   "source": [
    "class SchellingAgent(CellAgent):\n",
    "    \"\"\"\n",
    "    Schelling segregation agent\n",
    "    \n",
    "    Parameters\n",
    "    ----------\n",
    "    pos : tuple of 2 ints\n",
    "          the x,y coordinates in the grid\n",
    "    model : Model instance\n",
    "    color : {Color.RED, Color.BLUE}\n",
    "    tolerance_threshold : float\n",
    "    \n",
    "    \"\"\"\n",
    "\n",
    "    def __init__(self, model, color, tolerance_threshold):\n",
    "        super().__init__(model)  \n",
    "        self.color = color\n",
    "        self.tolerance_threshold = tolerance_threshold\n",
    "        self.happy = True\n",
    "\n",
    "    def meets_threshold(self, cell):\n",
    "        '''check if a given cell meets the tolerance threshold\n",
    "        \n",
    "        Returns\n",
    "        -------\n",
    "        bool\n",
    "        \n",
    "        '''\n",
    "        different = 0\n",
    "        for neighbor in cell.neighborhood.agents:\n",
    "            if neighbor.color != self.color:\n",
    "                different += 1\n",
    "        \n",
    "        return different <= self.tolerance_threshold\n",
    "       \n",
    "    def move_to_empty(self):\n",
    "        '''move to an empty spot in the grid if the empty spot meets the tolerance threshold'''\n",
    "        ...\n",
    "            \n",
    "    def step(self):\n",
    "        '''execute one step of the agent'''\n",
    "        ..."
   ]
  },
  {
   "cell_type": "code",
   "execution_count": null,
   "metadata": {
    "ExecuteTime": {
     "end_time": "2020-10-23T07:57:26.368064Z",
     "start_time": "2020-10-23T07:57:25.727701Z"
    },
    "tags": []
   },
   "outputs": [],
   "source": [
    "page = SolaraViz(\n",
    "    Schelling(),\n",
    "    components=[make_space_matplotlib(agent_portrayal=agent_portrayal), make_plot_measure(\"happy\")],\n",
    "    model_params=model_params\n",
    ")\n",
    "# This is required to render the visualization in the Jupyter notebook\n",
    "page"
   ]
  },
  {
   "cell_type": "markdown",
   "metadata": {},
   "source": [
    "## Assignment 5\n",
    "So far, we have run the model for the default values of the parameters `density`, `minority_fraction`, and `tolerance_threshold`. It is quite common in Agent Based Modelling to perform a parameter sweep where one runs the model over a range of parameterizations and analyse the results.\n",
    "\n",
    "MESA support this with a `batch_run` function. See the [MESA tutorial](https://mesa.readthedocs.io/en/latest/tutorials/intro_tutorial.html#batch-run) for details. In short, the `batch_run` function allows you to specify a set of values (fixed for parameters you don't want to vary and iterables for the parameters you do want to vary), the number of iterations/replications for each run and the number of steps to run the model for. At the end of each run, it automatically collects all statistics specified in the `self.datacollector` attribute of your model.\n",
    "\n",
    "The `batch_run` function assumes that a `self.running` attribute is available on the model. This is used to indicate that the model has reached a stable equilibrium and will not change in any subsequent steps. If running is True, the model will still change. If running is False, the model has reached an equilibrium.\n",
    "\n",
    "1. Let's update our model with this running attribute. What conditions must hold for the model to have reached equilibirum?\n",
    "\n",
    "**Answer: The condition that must hold for the model to have reached equilibirum, is that all agents in the model are happy.**\n",
    "\n",
    "2. Implement this condition and the running attribute. \n",
    "*Hint:* you can get the number of agents in the model via `len(self.agents)`\n",
    "\n",
    "3. Perform a batch run with the following settings. Visualize some results:\n",
    "    * height and width fixed at 20\n",
    "    * density varies from 0.8 to 0.9 with 0.025 increments\n",
    "    * minority_fraction varies from 0.2 to 0.4 with 0.1 increments\n",
    "    * tolerance_threshold varies from 2 to 4 with increment of 1\n",
    "    * 5 replications\n",
    "    * 50 steps"
   ]
  },
  {
   "cell_type": "code",
   "execution_count": null,
   "metadata": {
    "ExecuteTime": {
     "end_time": "2020-10-23T08:07:46.867257Z",
     "start_time": "2020-10-23T08:07:46.851382Z"
    },
    "tags": []
   },
   "outputs": [],
   "source": [
    "class Schelling(Model):\n",
    "    \"\"\"\n",
    "    Model class for the Schelling segregation model.\n",
    "    \n",
    "    Parameters\n",
    "    ----------\n",
    "    height : int\n",
    "             height of grid\n",
    "    width : int\n",
    "            height of width\n",
    "    density : float\n",
    "            fraction of grid cells occupied\n",
    "    minority_fraction : float\n",
    "            fraction of agent of minority color\n",
    "    tolerance_threshold : int\n",
    "    \n",
    "    Attributes\n",
    "    ----------\n",
    "    height : int\n",
    "    width : int\n",
    "    density : float\n",
    "    minority_fraction : float\n",
    "    schedule : RandomActivation instance\n",
    "    grid : SingleGrid instance\n",
    "    \n",
    "    \"\"\"\n",
    "\n",
    "    def __init__(self, height=20, width=20, density=0.8, minority_fraction=0.2,\n",
    "                 tolerance_threshold=4, seed=None):\n",
    "        super().__init__(seed=seed)\n",
    "        \n",
    "        self.height = height\n",
    "        self.width = width\n",
    "        self.density = density\n",
    "        self.minority_fraction = minority_fraction\n",
    "\n",
    "        # self.schedule = RandomActivation(self)\n",
    "        self.grid = OrthogonalMooreGrid((width, height), torus=True, capacity=1, random=self.random)\n",
    "        self.datacollector = DataCollector(model_reporters={'happy':count_happy})\n",
    "\n",
    "        # Set up agents\n",
    "        # We iterate over all cells in the grid\n",
    "        for cell in self.grid.all_cells:\n",
    "            if self.random.random() < self.density:\n",
    "                agent_color = Color.RED if self.random.random() < self.minority_fraction else Color.BLUE\n",
    "                agent = SchellingAgent(self, agent_color, tolerance_threshold)\n",
    "                agent.cell = cell\n",
    "        self.datacollector.collect(self)\n",
    "\n",
    "    def step(self):\n",
    "        \"\"\"\n",
    "        Run one step of the model.\n",
    "        \"\"\"\n",
    "        self.agents.shuffle_do(\"step\")\n",
    "        self.datacollector.collect(self)\n",
    "        \n",
    "        ..."
   ]
  },
  {
   "cell_type": "code",
   "execution_count": null,
   "metadata": {
    "tags": []
   },
   "outputs": [],
   "source": [
    "from mesa.batchrunner import batch_run\n",
    "\n",
    "params = {'width': 20, 'height': 20,\n",
    "          'density': [0.8, 0.825, 0.85, 0.875, 0.9],\n",
    "          'minority_fraction': [0.2, 0.3, 0.4],\n",
    "          'tolerance_threshold': [2, 3, 4]}\n",
    "\n",
    "results = batch_run(Schelling, params, iterations=5, max_steps=50)"
   ]
  },
  {
   "cell_type": "code",
   "execution_count": null,
   "metadata": {
    "tags": []
   },
   "outputs": [],
   "source": [
    "results_df = pd.DataFrame(results)\n",
    "results_df.head(10)"
   ]
  },
  {
   "cell_type": "code",
   "execution_count": null,
   "metadata": {
    "tags": []
   },
   "outputs": [],
   "source": [
    "\n",
    "fig, ax = plt.subplots(figsize=(10,10.5))\n",
    "points = ax.scatter(results_df.minority_fraction, results_df.density, c=results_df.happy,\n",
    "          cmap='viridis')\n",
    "ax.set_xlabel('minority fraction')\n",
    "ax.set_ylabel('density')\n",
    "fig.colorbar(points, label=\"# happy\")\n",
    "plt.show()"
   ]
  },
  {
   "cell_type": "code",
   "execution_count": null,
   "metadata": {},
   "outputs": [],
   "source": []
  }
 ],
 "metadata": {
  "kernelspec": {
   "display_name": "Python 3 (ipykernel)",
   "language": "python",
   "name": "python3"
  },
  "language_info": {
   "codemirror_mode": {
    "name": "ipython",
    "version": 3
   },
   "file_extension": ".py",
   "mimetype": "text/x-python",
   "name": "python",
   "nbconvert_exporter": "python",
   "pygments_lexer": "ipython3",
   "version": "3.11.0"
  },
  "toc-showcode": false,
  "toc-showtags": false
 },
 "nbformat": 4,
 "nbformat_minor": 4
}
