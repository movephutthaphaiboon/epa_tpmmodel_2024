{
 "cells": [
  {
   "cell_type": "markdown",
   "metadata": {},
   "source": [
    "# Conceptual description\n",
    "\n",
    "As people interact, they tend to become more alike in their beliefs, attitudes and behaviour. In [\"The Dissemination of Culture: A Model with Local Convergence and Global Polarization\" (1997)](https://www.jstor.org/stable/174371?seq=1#metadata_info_tab_contents), Robert Axelrod presents an agent-based model to explain cultural diffusion. Analogous to Schelling's segregation model, the key to this conceptualization is the emergence of polarization from the interaction of individual agents. The basic premise is that the more similar an agent is to a neighbor, the more likely that that actor will adopt one of the neighbor's traits.\n",
    "\n",
    "In the model below, this is implemented by initializing the model by filling an excel-like grid with agents with random values [0,1] for each of four traits (music, sports, favorite color and drink). \n",
    "\n",
    "Each step, each agent (in random order) chooses a random neighbor from its neighbors proportionaly to how similar it is to each of its neighbors, and adopts one randomly selected differing trait from this neighbor. Similarity between any two agents is calculated by the sum of identical traits.\n",
    "\n",
    "To visualize the model, the four traits are transformed into 'RGBA' (Red-Green-Blue-Alpha) values; i.e. a color and an opacity. The visualizations below show the clusters of homogeneity being formed.\n",
    "\n",
    "## implement the step method of the agent\n",
    "The first assignment is to implement the step method for the agent. \n",
    "\n",
    "1. Make a conceptual description or diagram of the step method for the agent in light of the description given above.\n",
    "2. implement the step method.\n",
    "    * you need to use self.cell.get_neighborhood in order to make it work with varying neighborhood sizes\n",
    "    * self.random.choices takes an optional weights keyword argument allowing you to randomly yet proportionaly to similiary select a neighbor\n",
    "\n",
    "Compare your results with those shown below\n",
    "<div>\n",
    "<img src=\"dynamics.png\" width=\"600\"/>\n",
    "</div>"
   ]
  },
  {
   "cell_type": "code",
   "execution_count": null,
   "metadata": {
    "tags": []
   },
   "outputs": [],
   "source": [
    "import collections\n",
    "import random\n",
    "\n",
    "import numpy as np\n",
    "\n",
    "from mesa import Model\n",
    "from mesa.datacollection import DataCollector\n",
    "\n",
    "from mesa.experimental.cell_space import CellAgent, OrthogonalMooreGrid\n",
    "\n",
    "\n",
    "class CulturalDiff(Model):\n",
    "    \"\"\"\n",
    "    Model class for the Schelling segregation model.\n",
    "    \n",
    "    Parameters\n",
    "    ----------\n",
    "    height : int\n",
    "             height of grid\n",
    "    width : int\n",
    "            height of grid\n",
    "    seed : int\n",
    "            random seed\n",
    "    neighborhoood_size : int, optional\n",
    "    torus : bool, optional\n",
    "    \n",
    "    Attributes\n",
    "    ----------\n",
    "    height : int\n",
    "    width : int\n",
    "    density : float\n",
    "    schedule : RandomActivation instance\n",
    "    grid : SingleGrid instance\n",
    "    \n",
    "    \"\"\"\n",
    "\n",
    "\n",
    "    def __init__(self, height=20, width=20, seed=None,\n",
    "                neighborhood_size=1, torus=True):\n",
    "        super().__init__(seed=seed)\n",
    "\n",
    "        self.grid = OrthogonalMooreGrid((width, height), torus=torus, capacity=1, random=self.random)\n",
    "        self.datacollector = DataCollector(model_reporters={'diversity':calculate_nr_of_cultures})\n",
    "\n",
    "        # Fill grid with agents with random traits\n",
    "        \n",
    "        # Note that this implementation does not guarantee some set distribution of traits. \n",
    "        # Therefore, examining the effect of minorities etc is not facilitated.\n",
    "\n",
    "        for cell in self.grid.all_cells:\n",
    "            profile = np.asarray([self.random.choice([0,1]) for _ in range(4)])\n",
    "            \n",
    "            agent = CulturalDiffAgent(self, profile, neighborhood_size)\n",
    "            agent.cell = cell\n",
    "\n",
    "        self.datacollector.collect(self)\n",
    "\n",
    "    def step(self):\n",
    "        \"\"\"\n",
    "        Run one step of the model.\n",
    "        \"\"\"\n",
    "        self.agents.shuffle_do(\"step\")\n",
    "        self.datacollector.collect(self)\n",
    "\n",
    "\n",
    "class CulturalDiffAgent(CellAgent):\n",
    "    \"\"\"\n",
    "    Schelling segregation agent\n",
    "    \n",
    "    Parameters\n",
    "    ----------\n",
    "    model : Model instance\n",
    "    profile : ndarray\n",
    "    \n",
    "    \"\"\"\n",
    "\n",
    "    def __init__(self, model, profile, neighborhood_size):\n",
    "        super().__init__(model)\n",
    "        self.profile = profile\n",
    "        self.neighborhood_size = neighborhood_size\n",
    "        \n",
    "    def step(self):\n",
    "        ...\n",
    "\n",
    "\n",
    "def traits_to_color(profile):  \n",
    "    \"\"\" Converts the traits of an agent to a list of RGBA values\"\"\"\n",
    "    color = profile.copy().astype(float)\n",
    "    if color[-1]==0:\n",
    "        color[-1] = 0.2\n",
    "    return color\n",
    "\n",
    "\n",
    "def calculate_nr_of_cultures(model):\n",
    "    diversity = collections.defaultdict(int)\n",
    "    for agent in model.agents:\n",
    "        diversity[tuple(agent.profile)] += 1\n",
    "\n",
    "    return len(diversity.keys())"
   ]
  },
  {
   "cell_type": "code",
   "execution_count": null,
   "metadata": {},
   "outputs": [],
   "source": [
    "# Create initial model instance\n",
    "model = CulturalDiff(50, 50)\n",
    "\n",
    "for _ in range(10):\n",
    "    model.step()"
   ]
  },
  {
   "cell_type": "markdown",
   "metadata": {},
   "source": [
    "# Visualization"
   ]
  },
  {
   "cell_type": "code",
   "execution_count": null,
   "metadata": {
    "tags": []
   },
   "outputs": [],
   "source": [
    "from mesa.visualization import (\n",
    "    SolaraViz,\n",
    "    make_plot_measure,\n",
    "    make_space_matplotlib,\n",
    ")"
   ]
  },
  {
   "cell_type": "code",
   "execution_count": null,
   "metadata": {
    "tags": []
   },
   "outputs": [],
   "source": [
    "def agent_portrayal(agent):\n",
    "    return {'size':25, 'color': traits_to_color(agent.profile),\n",
    "            \"marker\":'s'}\n",
    "\n",
    "model_params = {\n",
    "    \"neighborhood_size\": {\n",
    "        \"type\": \"SliderInt\",\n",
    "        \"value\": 1,\n",
    "        \"label\": \"neighborhood size\",\n",
    "        \"min\": 1,\n",
    "        \"max\": 4,\n",
    "        \"step\": 1,\n",
    "    },\n",
    "    \"width\": 20,\n",
    "    \"height\": 20,\n",
    "}\n",
    "\n",
    "\n",
    "\n",
    "# Create initial model instance\n",
    "model = CulturalDiff(50, 50)\n",
    "\n",
    "\n",
    "SpaceGraph = make_space_matplotlib(agent_portrayal)\n",
    "DiversityPlot = make_plot_measure(\"diversity\")\n",
    "\n",
    "page = SolaraViz(\n",
    "    model,\n",
    "    components=[SpaceGraph, DiversityPlot],\n",
    "    model_params=model_params,\n",
    "    name=\"Cultural diffusion\",\n",
    ")\n",
    "# This is required to render the visualization in the Jupyter notebook\n",
    "page\n"
   ]
  },
  {
   "cell_type": "markdown",
   "metadata": {},
   "source": [
    "# Neighborhood size\n",
    "\n",
    "The original version of the model uses a Moore neighborhood with a radius of 1. Explore the dynamics of the model with radius ranging from 1-3. How do the dynamics of the model change, and why?\n",
    "\n",
    "1. Perform experiments for neighborhoods with radiuses ranging from 1-3. Don't forget to account for the stochastic uncertainty\n",
    "2. Make an appropriate visualization showing the difference in dynamics over time for both versions of the model\n",
    "3. Describe in words how the behavior is different and explain this change in behavior."
   ]
  },
  {
   "cell_type": "code",
   "execution_count": null,
   "metadata": {},
   "outputs": [],
   "source": []
  },
  {
   "cell_type": "markdown",
   "metadata": {},
   "source": [
    "# Torus\n",
    "To deal with edge effects, the model assumes the use of a Torus (i.e., donut). In reality, geography matters a lot and thus edge effects can occur. Explore the dynamics of the model with and without assuming a torus. How does the behaviour of the model change, and why?\n",
    "\n",
    "1. Perform experiments to test the behavior of the model with and without assuming a torus. Don't forget to account for the stochastic uncertainty\n",
    "2. Make an appropriate visualization showing the difference in dynamics over time for both versions of the model\n",
    "Describe in words how the behavior is different and explain this change in behavior."
   ]
  },
  {
   "cell_type": "code",
   "execution_count": null,
   "metadata": {
    "tags": []
   },
   "outputs": [],
   "source": []
  },
  {
   "cell_type": "markdown",
   "metadata": {},
   "source": [
    "# Neighbor interaction\n",
    "The provided implementation assumes that interaction is random yet proportional to how similar the neighbors are. What if instead, we assume completely random interaction? How does the behavior of the model change, and why?\n",
    "\n",
    "Note that in order to do this, you will have to change the existing implementation:\n",
    "\n",
    "* add a select_random keyword argument to the mode\n",
    "* set select_random as a class attribute on the Agent class\n",
    "* add a select_random_neigbor and select_weighted_random_neigbor method to the Agent class\n",
    "* pick which select_* method to use based on the value of the select_random class attribute\n",
    "\n",
    "1. Implement the modified model and agent\n",
    "2. Perform experiments for both random and weighted random selection of neighbors. Don't forget to account for the stochastic uncertainty\n",
    "3. Make an appropriate visualization showing the difference in dynamics over time for both versions of the model\n",
    "4. Describe in words how the behavior is different and explain this change in behavior.\n",
    "5. Conceptually, how would you change the original implementation of the model as used for the first assignment such that the extensions needed for this assignment could have been implemented by merely extending the model and agent class.\n"
   ]
  },
  {
   "cell_type": "code",
   "execution_count": null,
   "metadata": {
    "tags": []
   },
   "outputs": [],
   "source": []
  }
 ],
 "metadata": {
  "kernelspec": {
   "display_name": "Python 3 (ipykernel)",
   "language": "python",
   "name": "python3"
  },
  "language_info": {
   "codemirror_mode": {
    "name": "ipython",
    "version": 3
   },
   "file_extension": ".py",
   "mimetype": "text/x-python",
   "name": "python",
   "nbconvert_exporter": "python",
   "pygments_lexer": "ipython3",
   "version": "3.11.0"
  }
 },
 "nbformat": 4,
 "nbformat_minor": 4
}
